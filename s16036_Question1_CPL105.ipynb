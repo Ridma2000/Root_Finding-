{
 "cells": [
  {
   "cell_type": "code",
   "execution_count": 48,
   "id": "ee960510-0d69-497c-9ce5-78ca2fba1d5a",
   "metadata": {},
   "outputs": [
    {
     "name": "stdout",
     "output_type": "stream",
     "text": [
      "a.) root =  1.4921875\n",
      "b.) time taken =  2.041015625\n",
      "c.) root of 3 =  1.734375\n",
      "d.) L =  24.8236083984375\n",
      "e.) r =  0.693359375\n"
     ]
    }
   ],
   "source": [
    "#Question 1\n",
    "#part II\n",
    "import numpy as np\n",
    "\n",
    "def my_bisection(f, a, b, tol): \n",
    "    #f (function) - The function for which the root is to be found\n",
    "    #a (float) - The lower bound of the interval\n",
    "    #b (float) - The upper bound of the interval\n",
    "    #tol (float) - The tolerance level for the root approximation\n",
    "    \n",
    "    # check if a and b bound a root\n",
    "    if np.sign(f(a)) == np.sign(f(b)):\n",
    "        raise Exception(\n",
    "         \"The scalars a and b do not bound a root\")\n",
    "        \n",
    "    # get midpoint\n",
    "    m = (a + b)/2\n",
    "    \n",
    "    if np.abs(f(m)) < tol:\n",
    "        # stopping condition, report m as root\n",
    "        return m\n",
    "        \n",
    "    elif np.sign(f(a)) == np.sign(f(m)):\n",
    "        # case where m is an improvement on a. \n",
    "        # Make recursive call with a = m\n",
    "        return my_bisection(f, m, b, tol)\n",
    "        \n",
    "    elif np.sign(f(b)) == np.sign(f(m)):\n",
    "        # case where m is an improvement on b. \n",
    "        # Make recursive call with b = m\n",
    "        return my_bisection(f, a, m, tol)\n",
    "\n",
    "\n",
    "#part III\n",
    "\n",
    "f1 = lambda x:x**2-np.exp(-x)-2*np.sin(x)  #lambda says that x should be found\n",
    "print(\"a.) root = \",my_bisection(f1, 0, 2, 0.01))\n",
    "\n",
    "f2 = lambda t : (10*t)+(1/2*(-9.8)*t**2)\n",
    "print(\"b.) time taken = \",my_bisection(f2, 1, 5, 0.01))\n",
    "\n",
    "f3 = lambda q: q**2-3\n",
    "print(\"c.) root of 3 = \",my_bisection(f3, 1, 2, 0.01))\n",
    "\n",
    "f4 = lambda L: L**2 - ((9.8*10*10)/(4*np.pi*np.pi))**2\n",
    "print(\"d.) L = \",my_bisection(f4, 24, 27, 0.01))\n",
    "\n",
    "f5 = lambda r:r**2-(np.log(2)*np.log(2))\n",
    "print(\"e.) r = \",my_bisection(f5, 0, 1, 0.001))"
   ]
  },
  {
   "cell_type": "code",
   "execution_count": null,
   "id": "a5e4a622-f9e8-4491-8116-bf131502533f",
   "metadata": {},
   "outputs": [],
   "source": []
  }
 ],
 "metadata": {
  "kernelspec": {
   "display_name": "Python 3 (ipykernel)",
   "language": "python",
   "name": "python3"
  },
  "language_info": {
   "codemirror_mode": {
    "name": "ipython",
    "version": 3
   },
   "file_extension": ".py",
   "mimetype": "text/x-python",
   "name": "python",
   "nbconvert_exporter": "python",
   "pygments_lexer": "ipython3",
   "version": "3.11.7"
  }
 },
 "nbformat": 4,
 "nbformat_minor": 5
}
