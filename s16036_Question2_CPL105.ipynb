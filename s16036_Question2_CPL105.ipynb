{
 "cells": [
  {
   "cell_type": "code",
   "execution_count": 54,
   "id": "6aaadfba-c2f7-45a8-8362-eb5827477f7f",
   "metadata": {},
   "outputs": [
    {
     "name": "stdout",
     "output_type": "stream",
     "text": [
      "(III)\n",
      "a.) root =  1.4895884942090234\n",
      "b.) time taken =  2.0408163265306736\n",
      "c.) root of 3 =  1.7320508100147276\n",
      "d.) L =  24.82368999237277\n",
      "e.) t =  0.693147180561823\n"
     ]
    }
   ],
   "source": [
    "#Question2\n",
    "import numpy as np\n",
    "\n",
    "def my_newton(f, df, x0, tol, max_itr):\n",
    "    #f (function) - The function for which the root is to be found\n",
    "    #df (function) - The derivative of the function\n",
    "    #x0 (float) - The initial guess of the root\n",
    "    #max_itr (int) - Maximum number of iterations\n",
    "    #tol (float) - The tolerance level for the root approximation\n",
    "    \n",
    "    for i in range(max_itr):\n",
    "        if abs(f(x0)) < tol:\n",
    "            return x0\n",
    "        else:\n",
    "            return my_newton(f, df, x0 - f(x0)/df(x0), tol, max_itr)\n",
    "\n",
    "print(\"(III)\")\n",
    "f1 = lambda x:x**2-np.exp(-x)-2*np.sin(x)  #lambda says that x should be found\n",
    "df1 = lambda x: 2*x+-np.exp(-x)-2*np.cos(x)   #by differentiate f1\n",
    "print(\"a.) root = \",my_newton(f1, df1, 1, 1e-6, 100))\n",
    "\n",
    "f2 = lambda t : (10*t)+(1/2*(-9.8)*t**2)\n",
    "df2 = lambda t: 10+((-9.8)*t)\n",
    "print(\"b.) time taken = \",my_newton(f2, df2, 2, 1e-6, 100))\n",
    "\n",
    "f3 = lambda q: q**2-3\n",
    "df3 = lambda q: 2*q\n",
    "print(\"c.) root of 3 = \",my_newton(f3, df3, 1, 1e-6, 100))\n",
    "\n",
    "f4 = lambda L: L**2 - ((9.8*10*10)/(4*np.pi*np.pi))**2\n",
    "df4 = lambda L: 2*L\n",
    "print(\"d.) L = \",my_newton(f4, df4, 20, 1e-6, 100))\n",
    "\n",
    "f5 = lambda r:r**2-(np.log(2)*np.log(2))\n",
    "df5 = lambda r: 2*r\n",
    "print(\"e.) t = \",my_newton(f5, df5, 1, 1e-6, 100))"
   ]
  },
  {
   "cell_type": "code",
   "execution_count": null,
   "id": "e05c00fb-4758-4f5d-936d-1ef0b625e0ba",
   "metadata": {},
   "outputs": [],
   "source": []
  }
 ],
 "metadata": {
  "kernelspec": {
   "display_name": "Python 3 (ipykernel)",
   "language": "python",
   "name": "python3"
  },
  "language_info": {
   "codemirror_mode": {
    "name": "ipython",
    "version": 3
   },
   "file_extension": ".py",
   "mimetype": "text/x-python",
   "name": "python",
   "nbconvert_exporter": "python",
   "pygments_lexer": "ipython3",
   "version": "3.11.7"
  }
 },
 "nbformat": 4,
 "nbformat_minor": 5
}
