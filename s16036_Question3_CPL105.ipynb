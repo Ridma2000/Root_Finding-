{
 "cells": [
  {
   "cell_type": "code",
   "execution_count": 26,
   "id": "fa2487e5-1a55-47d0-82de-b737e7e873d5",
   "metadata": {},
   "outputs": [
    {
     "name": "stdout",
     "output_type": "stream",
     "text": [
      "(I)\n",
      "a.) root =  -1.1360914521498995\n",
      "b.) time taken =  2.040816326530673\n",
      "c.) root of 3 =  1.7320508075688772\n",
      "d.) L =  24.823689992372756\n",
      "e.) L =  0.6931471805599456\n"
     ]
    }
   ],
   "source": [
    "#Question3\n",
    "\n",
    "import numpy as np\n",
    "from scipy.optimize import fsolve  #This function is used to find the roots of a function\n",
    "\n",
    "print(\"(I)\")\n",
    "f1 = lambda x:x**2-np.exp(-x)-2*np.sin(x)\n",
    "print(\"a.) root = \",fsolve(f1,0)[0])    #f1 is the function and 2 is the initiial condition\n",
    "\n",
    "f2 = lambda t : (10*t)+(1/2*(-9.8)*t**2)\n",
    "print(\"b.) time taken = \",fsolve(f2,2)[0])\n",
    "\n",
    "f3 = lambda q: q**2-3\n",
    "print(\"c.) root of 3 = \",fsolve(f3,1)[0])\n",
    "\n",
    "f4 = lambda L: L**2 - ((9.8*10*10)/(4*np.pi*np.pi))**2\n",
    "print(\"d.) L = \",fsolve(f4,20)[0])\n",
    "\n",
    "f5 = lambda r:r**2-(np.log(2)*np.log(2))\n",
    "print(\"e.) L = \",fsolve(f5,1)[0])"
   ]
  },
  {
   "cell_type": "code",
   "execution_count": null,
   "id": "ab63021b-ba86-4b8c-888d-7bf871d19e8b",
   "metadata": {},
   "outputs": [],
   "source": []
  },
  {
   "cell_type": "code",
   "execution_count": null,
   "id": "c80aba73-5b07-47c0-9c03-4bcec23cedb0",
   "metadata": {},
   "outputs": [],
   "source": []
  }
 ],
 "metadata": {
  "kernelspec": {
   "display_name": "Python 3 (ipykernel)",
   "language": "python",
   "name": "python3"
  },
  "language_info": {
   "codemirror_mode": {
    "name": "ipython",
    "version": 3
   },
   "file_extension": ".py",
   "mimetype": "text/x-python",
   "name": "python",
   "nbconvert_exporter": "python",
   "pygments_lexer": "ipython3",
   "version": "3.11.7"
  }
 },
 "nbformat": 4,
 "nbformat_minor": 5
}
